{
 "cells": [
  {
   "cell_type": "code",
   "execution_count": 2,
   "id": "198e048b-3a5a-4234-b242-5ac26cdc0007",
   "metadata": {},
   "outputs": [],
   "source": [
    "# Exploring Data\n",
    "import pandas as pd\n",
    "\n",
    "# Load the dataset\n",
    "vac = pd.read_csv('Documents/Travel details dataset.csv')"
   ]
  },
  {
   "cell_type": "code",
   "execution_count": 3,
   "id": "444953e2-dd10-4cbe-bf32-6d721ac8dd7c",
   "metadata": {},
   "outputs": [
    {
     "name": "stdout",
     "output_type": "stream",
     "text": [
      "Index(['Trip ID', 'Destination', 'Start date', 'End date', 'Duration (days)',\n",
      "       'Traveler name', 'Traveler age', 'Traveler gender',\n",
      "       'Traveler nationality', 'Accommodation type', 'Accommodation cost',\n",
      "       'Transportation type', 'Transportation cost'],\n",
      "      dtype='object')\n"
     ]
    }
   ],
   "source": [
    "print(vac.columns)"
   ]
  },
  {
   "cell_type": "code",
   "execution_count": 4,
   "id": "8601dbdc-339d-43ef-9207-2166b08f896d",
   "metadata": {},
   "outputs": [
    {
     "name": "stdout",
     "output_type": "stream",
     "text": [
      "   Trip ID       Destination Start date   End date  Duration (days)  \\\n",
      "0        1        London, UK   5/1/2023   5/8/2023              7.0   \n",
      "1        2  Phuket, Thailand  6/15/2023  6/20/2023              5.0   \n",
      "2        3   Bali, Indonesia   7/1/2023   7/8/2023              7.0   \n",
      "3        4     New York, USA  8/15/2023  8/29/2023             14.0   \n",
      "4        5      Tokyo, Japan  9/10/2023  9/17/2023              7.0   \n",
      "\n",
      "   Traveler name  Traveler age Traveler gender Traveler nationality  \\\n",
      "0     John Smith          35.0            Male             American   \n",
      "1       Jane Doe          28.0          Female             Canadian   \n",
      "2      David Lee          45.0            Male               Korean   \n",
      "3  Sarah Johnson          29.0          Female              British   \n",
      "4     Kim Nguyen          26.0          Female           Vietnamese   \n",
      "\n",
      "  Accommodation type Accommodation cost Transportation type  \\\n",
      "0              Hotel               1200              Flight   \n",
      "1             Resort                800              Flight   \n",
      "2              Villa               1000              Flight   \n",
      "3              Hotel               2000              Flight   \n",
      "4             Airbnb                700               Train   \n",
      "\n",
      "  Transportation cost  \n",
      "0                 600  \n",
      "1                 500  \n",
      "2                 700  \n",
      "3                1000  \n",
      "4                 200  \n"
     ]
    }
   ],
   "source": [
    "# Print the DataFrame to verify\n",
    "print(vac.head())"
   ]
  },
  {
   "cell_type": "code",
   "execution_count": 5,
   "id": "b7eb884d-5b67-48ac-a42d-d62412afbf7d",
   "metadata": {},
   "outputs": [
    {
     "name": "stdout",
     "output_type": "stream",
     "text": [
      "(139, 13)\n"
     ]
    }
   ],
   "source": [
    "# Get the dimensions of the DataFrame\n",
    "dimensions = vac.shape\n",
    "\n",
    "# Print the dimensions\n",
    "print(dimensions)"
   ]
  },
  {
   "cell_type": "code",
   "execution_count": 6,
   "id": "12043cc1-a7e5-4a40-9a91-700cdea82758",
   "metadata": {},
   "outputs": [
    {
     "name": "stdout",
     "output_type": "stream",
     "text": [
      "     Trip ID  Traveler age Traveler gender Accommodation cost  \\\n",
      "0          1          35.0            Male               1200   \n",
      "1          2          28.0          Female                800   \n",
      "2          3          45.0            Male               1000   \n",
      "3          4          29.0          Female               2000   \n",
      "4          5          26.0          Female                700   \n",
      "..       ...           ...             ...                ...   \n",
      "134      135          37.0            Male               2500   \n",
      "135      136          29.0          Female               5000   \n",
      "136      137          34.0            Male               2000   \n",
      "137      138          25.0          Female               6000   \n",
      "138      139          39.0            Male               7000   \n",
      "\n",
      "    Transportation cost  \n",
      "0                   600  \n",
      "1                   500  \n",
      "2                   700  \n",
      "3                  1000  \n",
      "4                   200  \n",
      "..                  ...  \n",
      "134                2000  \n",
      "135                3000  \n",
      "136                1000  \n",
      "137                2500  \n",
      "138                2500  \n",
      "\n",
      "[139 rows x 5 columns]\n"
     ]
    }
   ],
   "source": [
    "# Select specific columns (1, 2, 4, 5 in R are 0, 1, 3, 4 in Python)\n",
    "selected_columns = vac.iloc[:, [0,6, 7, 10, 12]]\n",
    "print(selected_columns)\n"
   ]
  },
  {
   "cell_type": "code",
   "execution_count": 8,
   "id": "b442edc9-cc0a-4af7-bbd9-3c3924073d69",
   "metadata": {},
   "outputs": [
    {
     "name": "stdout",
     "output_type": "stream",
     "text": [
      "['600' '500' '700' '1000' '200' '800' '1200' '100' '400' '150' '$400 '\n",
      " '$700 ' '$150 ' '$800 ' '$100 ' '$600 ' '$80 ' '$500 ' '$300 ' '$50 '\n",
      " '$120 ' '$75 ' '900' '50' '$200 ' '$250 ' '$20 ' '300' nan '800 USD'\n",
      " '200 USD' '500 USD' '700 USD' '300 USD' '600 USD' '400 USD' '1000 USD'\n",
      " '100 USD' '350 USD' '150 USD' '$1,200 ' '$900 ' '$1,500 ' '$1,000 ' '250'\n",
      " '2500' '1500' '2000' '3000']\n"
     ]
    }
   ],
   "source": [
    "# Select the 'Income2' column\n",
    "inc2 = vac['Transportation cost']\n",
    "\n",
    "# Get the unique levels (categories) of the 'Income2' column\n",
    "levels = inc2.unique()\n",
    "\n",
    "# Print the levels\n",
    "print(levels)"
   ]
  },
  {
   "cell_type": "code",
   "execution_count": 22,
   "id": "47557d13-eb95-4f1f-8331-8e0eaeeef690",
   "metadata": {},
   "outputs": [
    {
     "name": "stdout",
     "output_type": "stream",
     "text": [
      "          Trip ID  Duration (days)  Traveler age\n",
      "count  139.000000       137.000000    137.000000\n",
      "mean    70.000000         7.605839     33.175182\n",
      "std     40.269923         1.601276      7.145441\n",
      "min      1.000000         5.000000     20.000000\n",
      "25%     35.500000         7.000000     28.000000\n",
      "50%     70.000000         7.000000     31.000000\n",
      "75%    104.500000         8.000000     38.000000\n",
      "max    139.000000        14.000000     60.000000\n",
      "       Destination Start date  End date Traveler name Traveler gender  \\\n",
      "count          137        137       137           137             137   \n",
      "unique          59        111       125           109               2   \n",
      "top          Paris  8/15/2023  7/8/2023    John Smith          Female   \n",
      "freq             7          4         3             6              70   \n",
      "\n",
      "       Traveler nationality Accommodation type Accommodation cost  \\\n",
      "count                   137                137                137   \n",
      "unique                   41                  8                 53   \n",
      "top                American              Hotel               1200   \n",
      "freq                     24                 60                  7   \n",
      "\n",
      "       Transportation type Transportation cost  \n",
      "count                  136                 136  \n",
      "unique                   9                  48  \n",
      "top                  Plane                 700  \n",
      "freq                    57                  10  \n"
     ]
    }
   ],
   "source": [
    "# Summary statistics for numerical columns\n",
    "summary = vac.describe()\n",
    "print(summary)\n",
    "\n",
    "# Summary statistics for categorical columns\n",
    "summary_categorical = vac.describe(include=['object'])\n",
    "print(summary_categorical)\n"
   ]
  },
  {
   "cell_type": "code",
   "execution_count": 32,
   "id": "133dbe42-c035-444b-a15e-8930ab6a9280",
   "metadata": {},
   "outputs": [
    {
     "name": "stdout",
     "output_type": "stream",
     "text": [
      "   Accommodation cost  Transportation cost\n",
      "0              1200.0                600.0\n",
      "1               800.0                500.0\n",
      "2              1000.0                700.0\n",
      "3              2000.0               1000.0\n",
      "4               700.0                200.0\n"
     ]
    }
   ],
   "source": [
    "# Remove any non-numeric characters and convert to numeric\n",
    "vac['Accommodation cost'] = vac['Accommodation cost'].replace('[\\$, USD]', '', regex=True).astype(float)\n",
    "vac['Transportation cost'] = vac['Transportation cost'].replace('[\\$, USD]', '', regex=True).astype(float)\n",
    "\n",
    "# Check if the conversion was successful\n",
    "print(vac[['Accommodation cost', 'Transportation cost']].head())\n"
   ]
  },
  {
   "cell_type": "code",
   "execution_count": 33,
   "id": "fa247a4b-78c0-41c9-814e-5a679bc44e16",
   "metadata": {},
   "outputs": [
    {
     "name": "stdout",
     "output_type": "stream",
     "text": [
      "          Trip ID  Duration (days)  Traveler age  Accommodation cost  \\\n",
      "count  139.000000       137.000000    137.000000          137.000000   \n",
      "mean    70.000000         7.605839     33.175182         1245.109489   \n",
      "std     40.269923         1.601276      7.145441         1337.349836   \n",
      "min      1.000000         5.000000     20.000000          100.000000   \n",
      "25%     35.500000         7.000000     28.000000          600.000000   \n",
      "50%     70.000000         7.000000     31.000000          900.000000   \n",
      "75%    104.500000         8.000000     38.000000         1200.000000   \n",
      "max    139.000000        14.000000     60.000000         8000.000000   \n",
      "\n",
      "       Transportation cost  \n",
      "count           136.000000  \n",
      "mean            645.183824  \n",
      "std             584.476153  \n",
      "min              20.000000  \n",
      "25%             200.000000  \n",
      "50%             550.000000  \n",
      "75%             800.000000  \n",
      "max            3000.000000  \n"
     ]
    }
   ],
   "source": [
    "# Summary statistics for numerical columns\n",
    "summary = vac.describe()\n",
    "print(summary)\n"
   ]
  },
  {
   "cell_type": "code",
   "execution_count": 34,
   "id": "c114cd1a-8f01-4f9a-92b6-e7ffc7aee2dc",
   "metadata": {},
   "outputs": [
    {
     "name": "stdout",
     "output_type": "stream",
     "text": [
      "Trip ID                 0\n",
      "Destination             2\n",
      "Start date              2\n",
      "End date                2\n",
      "Duration (days)         2\n",
      "Traveler name           2\n",
      "Traveler age            2\n",
      "Traveler gender         2\n",
      "Traveler nationality    2\n",
      "Accommodation type      2\n",
      "Accommodation cost      2\n",
      "Transportation type     3\n",
      "Transportation cost     3\n",
      "Total cost              3\n",
      "Age group               5\n",
      "dtype: int64\n"
     ]
    }
   ],
   "source": [
    "# Check for missing values\n",
    "missing_values = vac.isnull().sum()\n",
    "print(missing_values)\n"
   ]
  },
  {
   "cell_type": "code",
   "execution_count": 35,
   "id": "0b63241f-c990-48a2-930a-acf6add1b994",
   "metadata": {},
   "outputs": [
    {
     "name": "stdout",
     "output_type": "stream",
     "text": [
      "Traveler gender\n",
      "Female    70\n",
      "Male      67\n",
      "Name: count, dtype: int64\n"
     ]
    }
   ],
   "source": [
    "# Value counts for 'Traveler gender'\n",
    "gender_counts = vac['Traveler gender'].value_counts()\n",
    "print(gender_counts)\n"
   ]
  },
  {
   "cell_type": "code",
   "execution_count": 36,
   "id": "db9b0592-aca7-49fe-8647-61356decbd0b",
   "metadata": {},
   "outputs": [
    {
     "name": "stdout",
     "output_type": "stream",
     "text": [
      "                 Accommodation cost  Transportation cost\n",
      "Traveler gender                                         \n",
      "Female                  1271.142857           663.928571\n",
      "Male                    1217.910448           625.303030\n"
     ]
    }
   ],
   "source": [
    "# Average accommodation and transportation cost by gender\n",
    "grouped_costs = vac.groupby('Traveler gender')[['Accommodation cost', 'Transportation cost']].mean()\n",
    "print(grouped_costs)\n"
   ]
  },
  {
   "cell_type": "code",
   "execution_count": 37,
   "id": "49d33c98-d4e2-4397-8069-9fb0ac248d20",
   "metadata": {},
   "outputs": [
    {
     "name": "stdout",
     "output_type": "stream",
     "text": [
      "   Trip ID       Destination Start date   End date  Duration (days)  \\\n",
      "0        1        London, UK   5/1/2023   5/8/2023              7.0   \n",
      "1        2  Phuket, Thailand  6/15/2023  6/20/2023              5.0   \n",
      "2        3   Bali, Indonesia   7/1/2023   7/8/2023              7.0   \n",
      "3        4     New York, USA  8/15/2023  8/29/2023             14.0   \n",
      "4        5      Tokyo, Japan  9/10/2023  9/17/2023              7.0   \n",
      "\n",
      "   Traveler name  Traveler age Traveler gender Traveler nationality  \\\n",
      "0     John Smith          35.0            Male             American   \n",
      "1       Jane Doe          28.0          Female             Canadian   \n",
      "2      David Lee          45.0            Male               Korean   \n",
      "3  Sarah Johnson          29.0          Female              British   \n",
      "4     Kim Nguyen          26.0          Female           Vietnamese   \n",
      "\n",
      "  Accommodation type  Accommodation cost Transportation type  \\\n",
      "0              Hotel              1200.0              Flight   \n",
      "1             Resort               800.0              Flight   \n",
      "2              Villa              1000.0              Flight   \n",
      "3              Hotel              2000.0              Flight   \n",
      "4             Airbnb               700.0               Train   \n",
      "\n",
      "   Transportation cost  Total cost Age group  \n",
      "0                600.0      1800.0     30-40  \n",
      "1                500.0      1300.0     20-30  \n",
      "2                700.0      1700.0     40-50  \n",
      "3               1000.0      3000.0     20-30  \n",
      "4                200.0       900.0     20-30  \n"
     ]
    }
   ],
   "source": [
    "# Total trip cost (accommodation + transportation)\n",
    "vac['Total cost'] = vac['Accommodation cost'] + vac['Transportation cost']\n",
    "print(vac.head())\n"
   ]
  },
  {
   "cell_type": "code",
   "execution_count": 38,
   "id": "5a2b4c92-3d18-43b6-8537-b2dce9c16314",
   "metadata": {},
   "outputs": [
    {
     "name": "stdout",
     "output_type": "stream",
     "text": [
      "     Trip ID             Destination  Start date    End date  Duration (days)  \\\n",
      "0          1              London, UK    5/1/2023    5/8/2023              7.0   \n",
      "2          3         Bali, Indonesia    7/1/2023    7/8/2023              7.0   \n",
      "5          6           Paris, France   10/5/2023  10/10/2023              5.0   \n",
      "6          7       Sydney, Australia  11/20/2023  11/30/2023             10.0   \n",
      "8          9  Amsterdam, Netherlands   2/14/2024   2/21/2024              7.0   \n",
      "..       ...                     ...         ...         ...              ...   \n",
      "131      132       Sydney, Australia   6/15/2023   6/21/2023              6.0   \n",
      "132      133             Rome, Italy    7/1/2023    7/8/2023              7.0   \n",
      "134      135  Rio de Janeiro, Brazil    8/1/2023   8/10/2023              9.0   \n",
      "136      137       Bangkok, Thailand    9/1/2023    9/8/2023              7.0   \n",
      "138      139   Auckland, New Zealand   10/1/2023   10/8/2023              7.0   \n",
      "\n",
      "     Traveler name  Traveler age Traveler gender Traveler nationality  \\\n",
      "0       John Smith          35.0            Male             American   \n",
      "2        David Lee          45.0            Male               Korean   \n",
      "5    Michael Brown          42.0            Male             American   \n",
      "6      Emily Davis          33.0          Female           Australian   \n",
      "8    Laura Janssen          31.0          Female                Dutch   \n",
      "..             ...           ...             ...                  ...   \n",
      "131      Sarah Lee          31.0          Female           Australian   \n",
      "132      David Kim          42.0            Male               Korean   \n",
      "134     Jose Perez          37.0            Male            Brazilian   \n",
      "136      Ryan Chen          34.0            Male              Chinese   \n",
      "138  William Brown          39.0            Male        New Zealander   \n",
      "\n",
      "    Accommodation type  Accommodation cost Transportation type  \\\n",
      "0                Hotel              1200.0              Flight   \n",
      "2                Villa              1000.0              Flight   \n",
      "5                Hotel              1500.0              Flight   \n",
      "6               Hostel               500.0              Flight   \n",
      "8                Hotel              1200.0               Train   \n",
      "..                 ...                 ...                 ...   \n",
      "131              Hotel              6000.0            Airplane   \n",
      "132             Airbnb              4000.0               Train   \n",
      "134             Hostel              2500.0                 Car   \n",
      "136             Hostel              2000.0               Train   \n",
      "138              Hotel              7000.0               Train   \n",
      "\n",
      "     Transportation cost  Total cost Age group  \n",
      "0                  600.0      1800.0     30-40  \n",
      "2                  700.0      1700.0     40-50  \n",
      "5                  800.0      2300.0     40-50  \n",
      "6                 1200.0      1700.0     30-40  \n",
      "8                  200.0      1400.0     30-40  \n",
      "..                   ...         ...       ...  \n",
      "131               3000.0      9000.0     30-40  \n",
      "132               1500.0      5500.0     40-50  \n",
      "134               2000.0      4500.0     30-40  \n",
      "136               1000.0      3000.0     30-40  \n",
      "138               2500.0      9500.0     30-40  \n",
      "\n",
      "[76 rows x 15 columns]\n"
     ]
    }
   ],
   "source": [
    "# Filter travelers over 30 years old\n",
    "over_30 = vac[vac['Traveler age'] > 30]\n",
    "print(over_30)\n"
   ]
  },
  {
   "cell_type": "code",
   "execution_count": 39,
   "id": "5f99d292-fb80-40b6-b3e0-58a5e59f8cf2",
   "metadata": {},
   "outputs": [
    {
     "name": "stdout",
     "output_type": "stream",
     "text": [
      "Age group        20-30  30-40  40-50\n",
      "Traveler gender                     \n",
      "Female              41     27      2\n",
      "Male                19     22     23\n"
     ]
    }
   ],
   "source": [
    "# Crosstabulation of gender and age groups\n",
    "vac['Age group'] = pd.cut(vac['Traveler age'], bins=[20, 30, 40, 50], labels=['20-30', '30-40', '40-50'])\n",
    "crosstab = pd.crosstab(vac['Traveler gender'], vac['Age group'])\n",
    "print(crosstab)\n"
   ]
  },
  {
   "cell_type": "code",
   "execution_count": 40,
   "id": "66e14124-0ad6-4572-a848-bbbbf4c12c7e",
   "metadata": {},
   "outputs": [
    {
     "data": {
      "image/png": "[encoded data removed]",
      "text/plain": [
       "<Figure size 640x480 with 1 Axes>"
      ]
     },
     "metadata": {},
     "output_type": "display_data"
    },
    {
     "data": {
      "image/png": "[encoded data removed]",
      "text/plain": [
       "<Figure size 640x480 with 1 Axes>"
      ]
     },
     "metadata": {},
     "output_type": "display_data"
    }
   ],
   "source": [
    "import matplotlib.pyplot as plt\n",
    "\n",
    "# Histogram of traveler ages\n",
    "vac['Traveler age'].hist()\n",
    "plt.xlabel('Age')\n",
    "plt.ylabel('Frequency')\n",
    "plt.title('Distribution of Traveler Ages')\n",
    "plt.show()\n",
    "\n",
    "# Box plot of accommodation costs by gender\n",
    "vac.boxplot(column='Accommodation cost', by='Traveler gender')\n",
    "plt.xlabel('Gender')\n",
    "plt.ylabel('Accommodation Cost')\n",
    "plt.title('Accommodation Costs by Gender')\n",
    "plt.suptitle('')  # Suppress the default title to make it cleaner\n",
    "plt.show()\n"
   ]
  },
  {
   "cell_type": "code",
   "execution_count": 43,
   "id": "cfdbedd4-bed1-47fa-942f-c6a33cdb2ffc",
   "metadata": {},
   "outputs": [
    {
     "name": "stdout",
     "output_type": "stream",
     "text": [
      "binned  0-500  500-1000  1000-2000  2000-3000  3000-4000\n",
      "orig                                                    \n",
      "20.0        1         0          0          0          0\n",
      "50.0        3         0          0          0          0\n",
      "75.0        1         0          0          0          0\n",
      "80.0        1         0          0          0          0\n",
      "100.0      10         0          0          0          0\n",
      "120.0       1         0          0          0          0\n",
      "150.0      11         0          0          0          0\n",
      "200.0      10         0          0          0          0\n",
      "250.0       2         0          0          0          0\n",
      "300.0       9         0          0          0          0\n",
      "350.0       1         0          0          0          0\n",
      "400.0       7         0          0          0          0\n",
      "500.0       0        11          0          0          0\n",
      "600.0       0         9          0          0          0\n",
      "700.0       0        15          0          0          0\n",
      "800.0       0        16          0          0          0\n",
      "900.0       0         4          0          0          0\n",
      "1000.0      0         0          8          0          0\n",
      "1200.0      0         0          5          0          0\n",
      "1500.0      0         0          3          0          0\n",
      "2000.0      0         0          0          2          0\n",
      "2500.0      0         0          0          4          0\n",
      "3000.0      0         0          0          0          2\n"
     ]
    }
   ],
   "source": [
    "# Create bins for transportation cost (this step depends on your specific data distribution)\n",
    "bins = [0, 500, 1000, 2000, 3000, 4000, 5000, 6000, 7000, 8000]\n",
    "labels = [\"0-500\", \"500-1000\", \"1000-2000\", \"2000-3000\", \"3000-4000\", \"4000-5000\", \"5000-6000\", \"6000-7000\", \"7000-8000\"]\n",
    "\n",
    "# Bin the 'Transportation cost' column\n",
    "vac['Transportation cost binned'] = pd.cut(trans_cost, bins=bins, labels=labels, right=False)\n",
    "\n",
    "# Create a contingency table of the original vs binned 'Transportation cost'\n",
    "contingency_table = pd.crosstab(trans_cost, vac['Transportation cost binned'], rownames=['orig'], colnames=['binned'])\n",
    "\n",
    "# Print the contingency table\n",
    "print(contingency_table)\n"
   ]
  },
  {
   "cell_type": "code",
   "execution_count": 44,
   "id": "f0296dba-ae9e-4f34-a7db-8883c15b4b48",
   "metadata": {},
   "outputs": [],
   "source": [
    "\n",
    "# Save the modified DataFrame to a new CSV file\n",
    "vac.to_csv(\"modified_vacation.csv\", index=False)\n"
   ]
  },
  {
   "cell_type": "code",
   "execution_count": 45,
   "id": "27a5f28b-2ff4-4055-beb9-68b622135c82",
   "metadata": {},
   "outputs": [
    {
     "name": "stdout",
     "output_type": "stream",
     "text": [
      "   Trip ID  Duration (days)  Traveler age  Accommodation cost  \\\n",
      "0        1              7.0          35.0              1200.0   \n",
      "1        2              5.0          28.0               800.0   \n",
      "2        3              7.0          45.0              1000.0   \n",
      "3        4             14.0          29.0              2000.0   \n",
      "4        5              7.0          26.0               700.0   \n",
      "\n",
      "   Transportation cost  Total cost  \n",
      "0                600.0      1800.0  \n",
      "1                500.0      1300.0  \n",
      "2                700.0      1700.0  \n",
      "3               1000.0      3000.0  \n",
      "4                200.0       900.0  \n"
     ]
    }
   ],
   "source": [
    "# Select numeric columns for PCA\n",
    "vac_numeric = vac.select_dtypes(include=[float, int])\n",
    "\n",
    "# Display the first few rows of the selected data\n",
    "print(vac_numeric.head())\n"
   ]
  },
  {
   "cell_type": "code",
   "execution_count": 49,
   "id": "845b4fd1-bd30-4d8a-8475-5209f8d325d9",
   "metadata": {},
   "outputs": [
    {
     "ename": "ValueError",
     "evalue": "Input X contains NaN.\nPCA does not accept missing values encoded as NaN natively. For supervised learning, you might want to consider sklearn.ensemble.HistGradientBoostingClassifier and Regressor which accept missing values encoded as NaNs natively. Alternatively, it is possible to preprocess the data, for instance by using an imputer transformer in a pipeline or drop samples with missing values. See https://scikit-learn.org/stable/modules/impute.html You can find a list of all estimators that handle NaN values at the following page: https://scikit-learn.org/stable/modules/impute.html#estimators-that-handle-nan-values",
     "output_type": "error",
     "traceback": [
      "\u001b[1;31m---------------------------------------------------------------------------\u001b[0m",
      "\u001b[1;31mValueError\u001b[0m                                Traceback (most recent call last)",
      "Cell \u001b[1;32mIn[49], line 15\u001b[0m\n\u001b[0;32m     12\u001b[0m pca \u001b[38;5;241m=\u001b[39m PCA(n_components\u001b[38;5;241m=\u001b[39m\u001b[38;5;241m20\u001b[39m)\n\u001b[0;32m     14\u001b[0m \u001b[38;5;66;03m# Fit the PCA model\u001b[39;00m\n\u001b[1;32m---> 15\u001b[0m vac_pca \u001b[38;5;241m=\u001b[39m pca\u001b[38;5;241m.\u001b[39mfit_transform(vac_numeric)\n\u001b[0;32m     17\u001b[0m \u001b[38;5;66;03m# Create a DataFrame to hold the PCA results\u001b[39;00m\n\u001b[0;32m     18\u001b[0m pca_df \u001b[38;5;241m=\u001b[39m pd\u001b[38;5;241m.\u001b[39mDataFrame(data\u001b[38;5;241m=\u001b[39mvac_pca, columns\u001b[38;5;241m=\u001b[39m[\u001b[38;5;124mf\u001b[39m\u001b[38;5;124m'\u001b[39m\u001b[38;5;124mPC\u001b[39m\u001b[38;5;132;01m{\u001b[39;00mi\u001b[38;5;241m+\u001b[39m\u001b[38;5;241m1\u001b[39m\u001b[38;5;132;01m}\u001b[39;00m\u001b[38;5;124m'\u001b[39m \u001b[38;5;28;01mfor\u001b[39;00m i \u001b[38;5;129;01min\u001b[39;00m \u001b[38;5;28mrange\u001b[39m(\u001b[38;5;241m20\u001b[39m)])\n",
      "File \u001b[1;32m~\\anaconda3\\Lib\\site-packages\\sklearn\\utils\\_set_output.py:140\u001b[0m, in \u001b[0;36m_wrap_method_output.<locals>.wrapped\u001b[1;34m(self, X, *args, **kwargs)\u001b[0m\n\u001b[0;32m    138\u001b[0m \u001b[38;5;129m@wraps\u001b[39m(f)\n\u001b[0;32m    139\u001b[0m \u001b[38;5;28;01mdef\u001b[39;00m \u001b[38;5;21mwrapped\u001b[39m(\u001b[38;5;28mself\u001b[39m, X, \u001b[38;5;241m*\u001b[39margs, \u001b[38;5;241m*\u001b[39m\u001b[38;5;241m*\u001b[39mkwargs):\n\u001b[1;32m--> 140\u001b[0m     data_to_wrap \u001b[38;5;241m=\u001b[39m f(\u001b[38;5;28mself\u001b[39m, X, \u001b[38;5;241m*\u001b[39margs, \u001b[38;5;241m*\u001b[39m\u001b[38;5;241m*\u001b[39mkwargs)\n\u001b[0;32m    141\u001b[0m     \u001b[38;5;28;01mif\u001b[39;00m \u001b[38;5;28misinstance\u001b[39m(data_to_wrap, \u001b[38;5;28mtuple\u001b[39m):\n\u001b[0;32m    142\u001b[0m         \u001b[38;5;66;03m# only wrap the first output for cross decomposition\u001b[39;00m\n\u001b[0;32m    143\u001b[0m         \u001b[38;5;28;01mreturn\u001b[39;00m (\n\u001b[0;32m    144\u001b[0m             _wrap_data_with_container(method, data_to_wrap[\u001b[38;5;241m0\u001b[39m], X, \u001b[38;5;28mself\u001b[39m),\n\u001b[0;32m    145\u001b[0m             \u001b[38;5;241m*\u001b[39mdata_to_wrap[\u001b[38;5;241m1\u001b[39m:],\n\u001b[0;32m    146\u001b[0m         )\n",
      "File \u001b[1;32m~\\anaconda3\\Lib\\site-packages\\sklearn\\decomposition\\_pca.py:462\u001b[0m, in \u001b[0;36mPCA.fit_transform\u001b[1;34m(self, X, y)\u001b[0m\n\u001b[0;32m    439\u001b[0m \u001b[38;5;250m\u001b[39m\u001b[38;5;124;03m\"\"\"Fit the model with X and apply the dimensionality reduction on X.\u001b[39;00m\n\u001b[0;32m    440\u001b[0m \n\u001b[0;32m    441\u001b[0m \u001b[38;5;124;03mParameters\u001b[39;00m\n\u001b[1;32m   (...)\u001b[0m\n\u001b[0;32m    458\u001b[0m \u001b[38;5;124;03mC-ordered array, use 'np.ascontiguousarray'.\u001b[39;00m\n\u001b[0;32m    459\u001b[0m \u001b[38;5;124;03m\"\"\"\u001b[39;00m\n\u001b[0;32m    460\u001b[0m \u001b[38;5;28mself\u001b[39m\u001b[38;5;241m.\u001b[39m_validate_params()\n\u001b[1;32m--> 462\u001b[0m U, S, Vt \u001b[38;5;241m=\u001b[39m \u001b[38;5;28mself\u001b[39m\u001b[38;5;241m.\u001b[39m_fit(X)\n\u001b[0;32m    463\u001b[0m U \u001b[38;5;241m=\u001b[39m U[:, : \u001b[38;5;28mself\u001b[39m\u001b[38;5;241m.\u001b[39mn_components_]\n\u001b[0;32m    465\u001b[0m \u001b[38;5;28;01mif\u001b[39;00m \u001b[38;5;28mself\u001b[39m\u001b[38;5;241m.\u001b[39mwhiten:\n\u001b[0;32m    466\u001b[0m     \u001b[38;5;66;03m# X_new = X * V / S * sqrt(n_samples) = U * sqrt(n_samples)\u001b[39;00m\n",
      "File \u001b[1;32m~\\anaconda3\\Lib\\site-packages\\sklearn\\decomposition\\_pca.py:485\u001b[0m, in \u001b[0;36mPCA._fit\u001b[1;34m(self, X)\u001b[0m\n\u001b[0;32m    479\u001b[0m \u001b[38;5;28;01mif\u001b[39;00m issparse(X):\n\u001b[0;32m    480\u001b[0m     \u001b[38;5;28;01mraise\u001b[39;00m \u001b[38;5;167;01mTypeError\u001b[39;00m(\n\u001b[0;32m    481\u001b[0m         \u001b[38;5;124m\"\u001b[39m\u001b[38;5;124mPCA does not support sparse input. See \u001b[39m\u001b[38;5;124m\"\u001b[39m\n\u001b[0;32m    482\u001b[0m         \u001b[38;5;124m\"\u001b[39m\u001b[38;5;124mTruncatedSVD for a possible alternative.\u001b[39m\u001b[38;5;124m\"\u001b[39m\n\u001b[0;32m    483\u001b[0m     )\n\u001b[1;32m--> 485\u001b[0m X \u001b[38;5;241m=\u001b[39m \u001b[38;5;28mself\u001b[39m\u001b[38;5;241m.\u001b[39m_validate_data(\n\u001b[0;32m    486\u001b[0m     X, dtype\u001b[38;5;241m=\u001b[39m[np\u001b[38;5;241m.\u001b[39mfloat64, np\u001b[38;5;241m.\u001b[39mfloat32], ensure_2d\u001b[38;5;241m=\u001b[39m\u001b[38;5;28;01mTrue\u001b[39;00m, copy\u001b[38;5;241m=\u001b[39m\u001b[38;5;28mself\u001b[39m\u001b[38;5;241m.\u001b[39mcopy\n\u001b[0;32m    487\u001b[0m )\n\u001b[0;32m    489\u001b[0m \u001b[38;5;66;03m# Handle n_components==None\u001b[39;00m\n\u001b[0;32m    490\u001b[0m \u001b[38;5;28;01mif\u001b[39;00m \u001b[38;5;28mself\u001b[39m\u001b[38;5;241m.\u001b[39mn_components \u001b[38;5;129;01mis\u001b[39;00m \u001b[38;5;28;01mNone\u001b[39;00m:\n",
      "File \u001b[1;32m~\\anaconda3\\Lib\\site-packages\\sklearn\\base.py:565\u001b[0m, in \u001b[0;36mBaseEstimator._validate_data\u001b[1;34m(self, X, y, reset, validate_separately, **check_params)\u001b[0m\n\u001b[0;32m    563\u001b[0m     \u001b[38;5;28;01mraise\u001b[39;00m \u001b[38;5;167;01mValueError\u001b[39;00m(\u001b[38;5;124m\"\u001b[39m\u001b[38;5;124mValidation should be done on X, y or both.\u001b[39m\u001b[38;5;124m\"\u001b[39m)\n\u001b[0;32m    564\u001b[0m \u001b[38;5;28;01melif\u001b[39;00m \u001b[38;5;129;01mnot\u001b[39;00m no_val_X \u001b[38;5;129;01mand\u001b[39;00m no_val_y:\n\u001b[1;32m--> 565\u001b[0m     X \u001b[38;5;241m=\u001b[39m check_array(X, input_name\u001b[38;5;241m=\u001b[39m\u001b[38;5;124m\"\u001b[39m\u001b[38;5;124mX\u001b[39m\u001b[38;5;124m\"\u001b[39m, \u001b[38;5;241m*\u001b[39m\u001b[38;5;241m*\u001b[39mcheck_params)\n\u001b[0;32m    566\u001b[0m     out \u001b[38;5;241m=\u001b[39m X\n\u001b[0;32m    567\u001b[0m \u001b[38;5;28;01melif\u001b[39;00m no_val_X \u001b[38;5;129;01mand\u001b[39;00m \u001b[38;5;129;01mnot\u001b[39;00m no_val_y:\n",
      "File \u001b[1;32m~\\anaconda3\\Lib\\site-packages\\sklearn\\utils\\validation.py:921\u001b[0m, in \u001b[0;36mcheck_array\u001b[1;34m(array, accept_sparse, accept_large_sparse, dtype, order, copy, force_all_finite, ensure_2d, allow_nd, ensure_min_samples, ensure_min_features, estimator, input_name)\u001b[0m\n\u001b[0;32m    915\u001b[0m         \u001b[38;5;28;01mraise\u001b[39;00m \u001b[38;5;167;01mValueError\u001b[39;00m(\n\u001b[0;32m    916\u001b[0m             \u001b[38;5;124m\"\u001b[39m\u001b[38;5;124mFound array with dim \u001b[39m\u001b[38;5;132;01m%d\u001b[39;00m\u001b[38;5;124m. \u001b[39m\u001b[38;5;132;01m%s\u001b[39;00m\u001b[38;5;124m expected <= 2.\u001b[39m\u001b[38;5;124m\"\u001b[39m\n\u001b[0;32m    917\u001b[0m             \u001b[38;5;241m%\u001b[39m (array\u001b[38;5;241m.\u001b[39mndim, estimator_name)\n\u001b[0;32m    918\u001b[0m         )\n\u001b[0;32m    920\u001b[0m     \u001b[38;5;28;01mif\u001b[39;00m force_all_finite:\n\u001b[1;32m--> 921\u001b[0m         _assert_all_finite(\n\u001b[0;32m    922\u001b[0m             array,\n\u001b[0;32m    923\u001b[0m             input_name\u001b[38;5;241m=\u001b[39minput_name,\n\u001b[0;32m    924\u001b[0m             estimator_name\u001b[38;5;241m=\u001b[39mestimator_name,\n\u001b[0;32m    925\u001b[0m             allow_nan\u001b[38;5;241m=\u001b[39mforce_all_finite \u001b[38;5;241m==\u001b[39m \u001b[38;5;124m\"\u001b[39m\u001b[38;5;124mallow-nan\u001b[39m\u001b[38;5;124m\"\u001b[39m,\n\u001b[0;32m    926\u001b[0m         )\n\u001b[0;32m    928\u001b[0m \u001b[38;5;28;01mif\u001b[39;00m ensure_min_samples \u001b[38;5;241m>\u001b[39m \u001b[38;5;241m0\u001b[39m:\n\u001b[0;32m    929\u001b[0m     n_samples \u001b[38;5;241m=\u001b[39m _num_samples(array)\n",
      "File \u001b[1;32m~\\anaconda3\\Lib\\site-packages\\sklearn\\utils\\validation.py:161\u001b[0m, in \u001b[0;36m_assert_all_finite\u001b[1;34m(X, allow_nan, msg_dtype, estimator_name, input_name)\u001b[0m\n\u001b[0;32m    144\u001b[0m \u001b[38;5;28;01mif\u001b[39;00m estimator_name \u001b[38;5;129;01mand\u001b[39;00m input_name \u001b[38;5;241m==\u001b[39m \u001b[38;5;124m\"\u001b[39m\u001b[38;5;124mX\u001b[39m\u001b[38;5;124m\"\u001b[39m \u001b[38;5;129;01mand\u001b[39;00m has_nan_error:\n\u001b[0;32m    145\u001b[0m     \u001b[38;5;66;03m# Improve the error message on how to handle missing values in\u001b[39;00m\n\u001b[0;32m    146\u001b[0m     \u001b[38;5;66;03m# scikit-learn.\u001b[39;00m\n\u001b[0;32m    147\u001b[0m     msg_err \u001b[38;5;241m+\u001b[39m\u001b[38;5;241m=\u001b[39m (\n\u001b[0;32m    148\u001b[0m         \u001b[38;5;124mf\u001b[39m\u001b[38;5;124m\"\u001b[39m\u001b[38;5;130;01m\\n\u001b[39;00m\u001b[38;5;132;01m{\u001b[39;00mestimator_name\u001b[38;5;132;01m}\u001b[39;00m\u001b[38;5;124m does not accept missing values\u001b[39m\u001b[38;5;124m\"\u001b[39m\n\u001b[0;32m    149\u001b[0m         \u001b[38;5;124m\"\u001b[39m\u001b[38;5;124m encoded as NaN natively. For supervised learning, you might want\u001b[39m\u001b[38;5;124m\"\u001b[39m\n\u001b[1;32m   (...)\u001b[0m\n\u001b[0;32m    159\u001b[0m         \u001b[38;5;124m\"\u001b[39m\u001b[38;5;124m#estimators-that-handle-nan-values\u001b[39m\u001b[38;5;124m\"\u001b[39m\n\u001b[0;32m    160\u001b[0m     )\n\u001b[1;32m--> 161\u001b[0m \u001b[38;5;28;01mraise\u001b[39;00m \u001b[38;5;167;01mValueError\u001b[39;00m(msg_err)\n",
      "\u001b[1;31mValueError\u001b[0m: Input X contains NaN.\nPCA does not accept missing values encoded as NaN natively. For supervised learning, you might want to consider sklearn.ensemble.HistGradientBoostingClassifier and Regressor which accept missing values encoded as NaNs natively. Alternatively, it is possible to preprocess the data, for instance by using an imputer transformer in a pipeline or drop samples with missing values. See https://scikit-learn.org/stable/modules/impute.html You can find a list of all estimators that handle NaN values at the following page: https://scikit-learn.org/stable/modules/impute.html#estimators-that-handle-nan-values"
     ]
    }
   ],
   "source": [
    "import pandas as pd\n",
    "import numpy as np\n",
    "from sklearn.decomposition import PCA\n",
    "import matplotlib.pyplot as plt\n",
    "\n",
    "\n",
    "\n",
    "# Select numeric columns for PCA\n",
    "vac_numeric = vac.select_dtypes(include=[float, int])\n",
    "\n",
    "# Initialize PCA with the number of components you want to extract\n",
    "pca = PCA(n_components=20)\n",
    "\n",
    "# Fit the PCA model\n",
    "vac_pca = pca.fit_transform(vac_numeric)\n",
    "\n",
    "# Create a DataFrame to hold the PCA results\n",
    "pca_df = pd.DataFrame(data=vac_pca, columns=[f'PC{i+1}' for i in range(20)])\n",
    "\n",
    "# Display the explained variance ratio\n",
    "explained_variance = pca.explained_variance_ratio_\n",
    "print(\"Explained Variance Ratio:\", explained_variance)\n",
    "\n",
    "# Create a summary of the PCA results\n",
    "pca_summary = {\n",
    "    'Standard Deviation': np.sqrt(pca.explained_variance_),\n",
    "    'Proportion of Variance': explained_variance,\n",
    "    'Cumulative Proportion': np.cumsum(explained_variance)\n",
    "}\n",
    "\n",
    "# Convert the summary to a DataFrame\n",
    "pca_summary_df = pd.DataFrame(pca_summary)\n",
    "print(pca_summary_df)\n",
    "\n",
    "# Print the rotation (loadings) matrix\n",
    "rotation_matrix = pca.components_.T\n",
    "rotation_df = pd.DataFrame(data=rotation_matrix, columns=[f'PC{i+1}' for i in range(20)], index=vac_numeric.columns)\n",
    "print(rotation_df)\n",
    "\n",
    "# Scree plot\n",
    "plt.figure(figsize=(10, 6))\n",
    "plt.plot(range(1, 21), explained_variance, marker='o', linestyle='--')\n",
    "plt.title('Scree Plot')\n",
    "plt.xlabel('Principal Component')\n",
    "plt.ylabel('Proportion of Variance Explained')\n",
    "plt.xticks(range(1, 21))\n",
    "plt.show()\n"
   ]
  },
  {
   "cell_type": "code",
   "execution_count": null,
   "id": "7ee288ff-15f8-487b-85c0-357f75336beb",
   "metadata": {},
   "outputs": [],
   "source": [
    "\n",
    "# Scree plot\n",
    "plt.figure(figsize=(10, 6))\n",
    "plt.plot(range(1, 21), explained_variance, marker='o', linestyle='--')\n",
    "plt.title('Scree Plot')\n",
    "plt.xlabel('Principal Component')\n",
    "plt.ylabel('Proportion of Variance Explained')\n",
    "plt.xticks(range(1, 21))\n",
    "plt.show()"
   ]
  }
 ],
 "metadata": {
  "kernelspec": {
   "display_name": "Python 3 (ipykernel)",
   "language": "python",
   "name": "python3"
  },
  "language_info": {
   "codemirror_mode": {
    "name": "ipython",
    "version": 3
   },
   "file_extension": ".py",
   "mimetype": "text/x-python",
   "name": "python",
   "nbconvert_exporter": "python",
   "pygments_lexer": "ipython3",
   "version": "3.11.7"
  }
 },
 "nbformat": 4,
 "nbformat_minor": 5
}
